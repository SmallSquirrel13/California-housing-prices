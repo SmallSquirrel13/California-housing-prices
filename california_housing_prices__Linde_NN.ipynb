{
  "nbformat": 4,
  "nbformat_minor": 0,
  "metadata": {
    "colab": {
      "provenance": []
    },
    "kernelspec": {
      "name": "python3",
      "display_name": "Python 3"
    },
    "language_info": {
      "name": "python"
    }
  },
  "cells": [
    {
      "cell_type": "code",
      "source": [
        "import pandas as pd\n",
        "import numpy as np\n",
        "import torch\n",
        "import torch.nn as nn\n",
        "import torch.optim as optim\n",
        "from sklearn.model_selection import train_test_split\n",
        "from sklearn.preprocessing import StandardScaler\n",
        "from sklearn.metrics import mean_squared_error\n",
        "\n",
        "# set seed\n",
        "\n",
        "seed = 42\n",
        "np.random.seed(seed)\n",
        "torch.manual_seed(seed)"
      ],
      "metadata": {
        "colab": {
          "base_uri": "https://localhost:8080/"
        },
        "id": "04oOuCmHZDEu",
        "outputId": "b8ccdb74-e697-4e1d-e3d8-c607f08e3403"
      },
      "execution_count": null,
      "outputs": [
        {
          "output_type": "execute_result",
          "data": {
            "text/plain": [
              "<torch._C.Generator at 0x7a7ee236ff30>"
            ]
          },
          "metadata": {},
          "execution_count": 160
        }
      ]
    },
    {
      "cell_type": "code",
      "source": [
        "# URL с данными California Housing Prices\n",
        "url = 'https://raw.githubusercontent.com/ageron/handson-ml2/master/datasets/housing/housing.csv'\n",
        "\n",
        "housing = pd.read_csv(url)\n",
        "\n",
        "print(\"Первые несколько строк датасета:\")\n",
        "print(housing.head())\n",
        "\n",
        "unique_values = housing['ocean_proximity'].unique()\n",
        "print(\"\\nУникальные значения в столбце 'ocean_proximity':\")\n",
        "print(unique_values)"
      ],
      "metadata": {
        "id": "dVKZOxOFaiZU",
        "colab": {
          "base_uri": "https://localhost:8080/"
        },
        "outputId": "320b8e5e-5c59-4c0f-8788-ae72ba51e33e"
      },
      "execution_count": null,
      "outputs": [
        {
          "output_type": "stream",
          "name": "stdout",
          "text": [
            "Первые несколько строк датасета:\n",
            "   longitude  latitude  housing_median_age  total_rooms  total_bedrooms  \\\n",
            "0    -122.23     37.88                41.0        880.0           129.0   \n",
            "1    -122.22     37.86                21.0       7099.0          1106.0   \n",
            "2    -122.24     37.85                52.0       1467.0           190.0   \n",
            "3    -122.25     37.85                52.0       1274.0           235.0   \n",
            "4    -122.25     37.85                52.0       1627.0           280.0   \n",
            "\n",
            "   population  households  median_income  median_house_value ocean_proximity  \n",
            "0       322.0       126.0         8.3252            452600.0        NEAR BAY  \n",
            "1      2401.0      1138.0         8.3014            358500.0        NEAR BAY  \n",
            "2       496.0       177.0         7.2574            352100.0        NEAR BAY  \n",
            "3       558.0       219.0         5.6431            341300.0        NEAR BAY  \n",
            "4       565.0       259.0         3.8462            342200.0        NEAR BAY  \n",
            "\n",
            "Уникальные значения в столбце 'ocean_proximity':\n",
            "['NEAR BAY' '<1H OCEAN' 'INLAND' 'NEAR OCEAN' 'ISLAND']\n"
          ]
        }
      ]
    },
    {
      "cell_type": "code",
      "source": [
        "# GPU\n",
        "device = torch.device(\"cuda\" if torch.cuda.is_available() else \"cpu\")\n",
        "print(f\"Using device: {device}\")"
      ],
      "metadata": {
        "colab": {
          "base_uri": "https://localhost:8080/"
        },
        "id": "TM9v-pKGaOTc",
        "outputId": "a0a04ffa-f259-4d01-b852-2a007e891b9b"
      },
      "execution_count": null,
      "outputs": [
        {
          "output_type": "stream",
          "name": "stdout",
          "text": [
            "Using device: cpu\n"
          ]
        }
      ]
    },
    {
      "cell_type": "markdown",
      "source": [],
      "metadata": {
        "id": "_f1s4e9twGZx"
      }
    },
    {
      "cell_type": "code",
      "source": [
        "print(housing.head())"
      ],
      "metadata": {
        "colab": {
          "base_uri": "https://localhost:8080/"
        },
        "id": "QeYISdAwbP5b",
        "outputId": "2c92ea5e-4ef5-47bc-f175-810c3482e79a"
      },
      "execution_count": null,
      "outputs": [
        {
          "output_type": "stream",
          "name": "stdout",
          "text": [
            "   longitude  latitude  housing_median_age  total_rooms  total_bedrooms  \\\n",
            "0    -122.23     37.88                41.0        880.0           129.0   \n",
            "1    -122.22     37.86                21.0       7099.0          1106.0   \n",
            "2    -122.24     37.85                52.0       1467.0           190.0   \n",
            "3    -122.25     37.85                52.0       1274.0           235.0   \n",
            "4    -122.25     37.85                52.0       1627.0           280.0   \n",
            "\n",
            "   population  households  median_income  median_house_value ocean_proximity  \n",
            "0       322.0       126.0         8.3252            452600.0        NEAR BAY  \n",
            "1      2401.0      1138.0         8.3014            358500.0        NEAR BAY  \n",
            "2       496.0       177.0         7.2574            352100.0        NEAR BAY  \n",
            "3       558.0       219.0         5.6431            341300.0        NEAR BAY  \n",
            "4       565.0       259.0         3.8462            342200.0        NEAR BAY  \n"
          ]
        }
      ]
    },
    {
      "cell_type": "code",
      "source": [
        "print(housing.describe())"
      ],
      "metadata": {
        "colab": {
          "base_uri": "https://localhost:8080/"
        },
        "id": "Ik0JuMZakGE6",
        "outputId": "2a1b066d-f7e5-4478-c234-c2ce4d906cdf"
      },
      "execution_count": null,
      "outputs": [
        {
          "output_type": "stream",
          "name": "stdout",
          "text": [
            "          longitude      latitude  housing_median_age   total_rooms  \\\n",
            "count  20640.000000  20640.000000        20640.000000  20640.000000   \n",
            "mean    -119.569704     35.631861           28.639486   2635.763081   \n",
            "std        2.003532      2.135952           12.585558   2181.615252   \n",
            "min     -124.350000     32.540000            1.000000      2.000000   \n",
            "25%     -121.800000     33.930000           18.000000   1447.750000   \n",
            "50%     -118.490000     34.260000           29.000000   2127.000000   \n",
            "75%     -118.010000     37.710000           37.000000   3148.000000   \n",
            "max     -114.310000     41.950000           52.000000  39320.000000   \n",
            "\n",
            "       total_bedrooms    population    households  median_income  \\\n",
            "count    20433.000000  20640.000000  20640.000000   20640.000000   \n",
            "mean       537.870553   1425.476744    499.539680       3.870671   \n",
            "std        421.385070   1132.462122    382.329753       1.899822   \n",
            "min          1.000000      3.000000      1.000000       0.499900   \n",
            "25%        296.000000    787.000000    280.000000       2.563400   \n",
            "50%        435.000000   1166.000000    409.000000       3.534800   \n",
            "75%        647.000000   1725.000000    605.000000       4.743250   \n",
            "max       6445.000000  35682.000000   6082.000000      15.000100   \n",
            "\n",
            "       median_house_value  \n",
            "count        20640.000000  \n",
            "mean        206855.816909  \n",
            "std         115395.615874  \n",
            "min          14999.000000  \n",
            "25%         119600.000000  \n",
            "50%         179700.000000  \n",
            "75%         264725.000000  \n",
            "max         500001.000000  \n"
          ]
        }
      ]
    },
    {
      "cell_type": "code",
      "source": [
        "print(housing.isnull().sum())"
      ],
      "metadata": {
        "colab": {
          "base_uri": "https://localhost:8080/"
        },
        "id": "2qX7i5bfcQwZ",
        "outputId": "bcb00766-06ee-474c-995e-60d1591ef840"
      },
      "execution_count": null,
      "outputs": [
        {
          "output_type": "stream",
          "name": "stdout",
          "text": [
            "longitude               0\n",
            "latitude                0\n",
            "housing_median_age      0\n",
            "total_rooms             0\n",
            "total_bedrooms        207\n",
            "population              0\n",
            "households              0\n",
            "median_income           0\n",
            "median_house_value      0\n",
            "ocean_proximity         0\n",
            "dtype: int64\n"
          ]
        }
      ]
    },
    {
      "cell_type": "code",
      "source": [
        "# Преобразование категориальных данных о близости к океану в числовые ['NEAR BAY' '<1H OCEAN' 'INLAND' 'NEAR OCEAN' 'ISLAND']\n",
        "ocean_proximity_mapping = {\n",
        "    '<1H OCEAN': 0,\n",
        "    'INLAND': 1,\n",
        "    'NEAR OCEAN': 2,\n",
        "    'NEAR BAY': 3,\n",
        "    'ISLAND': 4\n",
        "}\n",
        "housing['ocean_proximity'] = housing['ocean_proximity'].map(ocean_proximity_mapping)\n",
        "\n",
        "# Проверка на наличие NaN значений\n",
        "print(housing.isnull().sum())\n",
        "\n",
        "# Заполнение NaN значений медианными значениями столбцов\n",
        "housing.fillna(housing.median(), inplace=True)\n",
        "\n",
        "# Повторная проверка на наличие NaN значений после заполнения\n",
        "print(\"Проверка на наличие NaN значений после заполнения:\")\n",
        "print(housing.isnull().sum())"
      ],
      "metadata": {
        "id": "6GRhyEcggumJ",
        "colab": {
          "base_uri": "https://localhost:8080/"
        },
        "outputId": "b695c6da-794c-4886-805e-79926ac16293"
      },
      "execution_count": null,
      "outputs": [
        {
          "output_type": "stream",
          "name": "stdout",
          "text": [
            "longitude               0\n",
            "latitude                0\n",
            "housing_median_age      0\n",
            "total_rooms             0\n",
            "total_bedrooms        207\n",
            "population              0\n",
            "households              0\n",
            "median_income           0\n",
            "median_house_value      0\n",
            "ocean_proximity         0\n",
            "dtype: int64\n",
            "Проверка на наличие NaN значений после заполнения:\n",
            "longitude             0\n",
            "latitude              0\n",
            "housing_median_age    0\n",
            "total_rooms           0\n",
            "total_bedrooms        0\n",
            "population            0\n",
            "households            0\n",
            "median_income         0\n",
            "median_house_value    0\n",
            "ocean_proximity       0\n",
            "dtype: int64\n"
          ]
        }
      ]
    },
    {
      "cell_type": "markdown",
      "source": [],
      "metadata": {
        "id": "zXu0F5NhbVKl"
      }
    },
    {
      "cell_type": "code",
      "source": [
        "# Разделение признаков и целевой переменной\n",
        "X = housing.drop('median_house_value', axis=1).values\n",
        "y = housing['median_house_value'].values\n",
        "\n",
        "# Нормализация данных\n",
        "scaler = StandardScaler()\n",
        "X = scaler.fit_transform(X)\n",
        "\n",
        "# Нормализация целевой переменной\n",
        "y = (y - y.mean()) / y.std()\n",
        "\n",
        "# Дополнительная проверка на NaN после нормализации\n",
        "print(\"Проверка на наличие NaN значений после нормализации:\")\n",
        "print(np.isnan(X).sum())\n",
        "print(np.isnan(y).sum())"
      ],
      "metadata": {
        "colab": {
          "base_uri": "https://localhost:8080/"
        },
        "id": "t4zkZFheFEj4",
        "outputId": "2fdb8af3-a748-4b48-8a90-050ffa71cbc2"
      },
      "execution_count": null,
      "outputs": [
        {
          "output_type": "stream",
          "name": "stdout",
          "text": [
            "Проверка на наличие NaN значений после нормализации:\n",
            "0\n",
            "0\n"
          ]
        }
      ]
    },
    {
      "cell_type": "markdown",
      "source": [],
      "metadata": {
        "id": "i3f3yVVnBVOc"
      }
    },
    {
      "cell_type": "code",
      "source": [
        "X_train, X_test, y_train, y_test = train_test_split(X, y, test_size=0.2, random_state=42)\n",
        "\n",
        "# Преобразование данных в тензоры\n",
        "X_train = torch.tensor(X_train, dtype=torch.float32)\n",
        "X_test = torch.tensor(X_test, dtype=torch.float32)\n",
        "y_train = torch.tensor(y_train, dtype=torch.float32).view(-1, 1)\n",
        "y_test = torch.tensor(y_test, dtype=torch.float32).view(-1, 1)\n",
        "\n",
        "# 3. Создание модель (объект) класса Sequential\n",
        "model = nn.Sequential(\n",
        "    nn.Linear(X_train.shape[1], 64),\n",
        "    nn.ReLU(),\n",
        "    nn.Linear(64, 32),\n",
        "    nn.ReLU(),\n",
        "    nn.Linear(32, 1)\n",
        ")\n"
      ],
      "metadata": {
        "id": "GYCsoTBkQPF3"
      },
      "execution_count": null,
      "outputs": []
    },
    {
      "cell_type": "code",
      "source": [
        "# Задаем критерий и оптимизатор\n",
        "criterion = nn.MSELoss()\n",
        "optimizer = optim.Adam(model.parameters(), lr=0.003)\n",
        "\n",
        "# 4. Обучаем модель на train данных\n",
        "num_epochs = 100\n",
        "for epoch in range(num_epochs):\n",
        "    model.train()\n",
        "    optimizer.zero_grad()\n",
        "\n",
        "    # Прямой проход\n",
        "    outputs = model(X_train)\n",
        "    loss = criterion(outputs, y_train)\n",
        "\n",
        "    # Обратный проход и оптимизация\n",
        "    loss.backward()\n",
        "    optimizer.step()\n",
        "\n",
        "    if (epoch+1) % 10 == 0:\n",
        "        print(f'Epoch [{epoch+1}/{num_epochs}], Loss: {loss.item():.4f}')\n",
        "\n",
        "# 5. Проверяем качество модели на тестовых данных\n",
        "model.eval()\n",
        "with torch.no_grad():\n",
        "    predictions = model(X_test)\n",
        "    test_loss = criterion(predictions, y_test)\n",
        "    rmse = torch.sqrt(test_loss)\n",
        "    print(f'Test RMSE: {rmse.item():.4f}')\n",
        "\n",
        "# Оценка модели\n",
        "predictions_np = predictions.numpy()\n",
        "y_test_np = y_test.numpy()\n",
        "mse = mean_squared_error(y_test_np, predictions_np)\n",
        "rmse = np.sqrt(mse)\n",
        "print(f'Test RMSE: {rmse:.4f}')\n"
      ],
      "metadata": {
        "colab": {
          "base_uri": "https://localhost:8080/"
        },
        "id": "U-x3us4BQeoc",
        "outputId": "a17b752b-c7b4-43c9-97d0-d9f63a2794cc"
      },
      "execution_count": null,
      "outputs": [
        {
          "output_type": "stream",
          "name": "stdout",
          "text": [
            "Epoch [10/100], Loss: 0.5611\n",
            "Epoch [20/100], Loss: 0.4171\n",
            "Epoch [30/100], Loss: 0.3419\n",
            "Epoch [40/100], Loss: 0.3191\n",
            "Epoch [50/100], Loss: 0.3031\n",
            "Epoch [60/100], Loss: 0.2911\n",
            "Epoch [70/100], Loss: 0.2811\n",
            "Epoch [80/100], Loss: 0.2724\n",
            "Epoch [90/100], Loss: 0.2649\n",
            "Epoch [100/100], Loss: 0.2582\n",
            "Test RMSE: 0.5205\n",
            "Test RMSE: 0.5205\n"
          ]
        }
      ]
    }
  ]
}